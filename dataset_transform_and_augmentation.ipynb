{
  "nbformat": 4,
  "nbformat_minor": 0,
  "metadata": {
    "colab": {
      "provenance": []
    },
    "kernelspec": {
      "name": "python3",
      "display_name": "Python 3"
    },
    "language_info": {
      "name": "python"
    }
  },
  "cells": [
    {
      "cell_type": "markdown",
      "source": [
        "**Трансформация датасета**\n",
        "\n",
        "json-файлы -> формат, подходящий для YOLO"
      ],
      "metadata": {
        "id": "JgFBwZlaMMEK"
      }
    },
    {
      "cell_type": "code",
      "source": [
        "import os\n",
        "import shutil\n",
        "import json\n",
        "\n",
        "# Указываем путь к папке в Google Colab где лежат файлы с разметкой\n",
        "folder_path = '/content/ann'\n",
        "\n",
        "# Получаем список файлов в папке\n",
        "files = os.listdir(folder_path)\n",
        "\n",
        "# Проходимся по каждому файлу\n",
        "for file_name in files:\n",
        "\n",
        "    #открываем старый фаил и считываем данные\n",
        "    file_path = os.path.join(folder_path, file_name)\n",
        "    json_file = open(file_path, 'r')\n",
        "    data = json.load(json_file)\n",
        "\n",
        "    #создаем txt файл куда будем записывать новый формат\n",
        "    file_name = file_path.split('/')[-1][:-9] + '.txt'\n",
        "    text_file = open(file_name, 'w')\n",
        "\n",
        "    #сохраяем ширину и высоту фото\n",
        "    image_height = data['size']['height']\n",
        "    image_width = data['size']['width']\n",
        "\n",
        "    #проходимся по каждому объкту на фото\n",
        "    for i in range(len(data['objects'])):\n",
        "\n",
        "        #считаем координаты в нужном формате\n",
        "        x1 = data['objects'][i]['points']['exterior'][0][0]\n",
        "        y1 = data['objects'][i]['points']['exterior'][0][1]\n",
        "        x2 = data['objects'][i]['points']['exterior'][1][0]\n",
        "        y2 = data['objects'][i]['points']['exterior'][1][1]\n",
        "        x_center = ((x1 + x2)/2) / image_width\n",
        "        y_center = ((y1 + y2)/2) / image_height\n",
        "        rel_width = (x2 - x1) / image_width\n",
        "        rel_height = (y2 - y1) / image_height\n",
        "        new_row = '0 ' + str(x_center) + ' ' + str(y_center) + ' '+ str(rel_width) + ' ' + str(rel_height) + '\\n'\n",
        "\n",
        "        #записываем координаты на новую строку текстового файла\n",
        "        text_file.write(new_row)\n",
        "\n",
        "    #сохраняем и закрываем оба файла\n",
        "    text_file.close()\n",
        "    json_file.close()"
      ],
      "metadata": {
        "id": "naASdW8ffgGi"
      },
      "execution_count": null,
      "outputs": []
    },
    {
      "cell_type": "markdown",
      "source": [
        "**Аугментация датасета**\n",
        "\n",
        "Делаем 5 преобразований:\n",
        "1. Зашумление\n",
        "2. Увеличение яркости\n",
        "3. Уменьшение яркости\n",
        "4. Увеличение насыщенности\n",
        "5. Уменьшение насыщенности"
      ],
      "metadata": {
        "id": "etsYevXKMYUB"
      }
    },
    {
      "cell_type": "code",
      "source": [
        "from google.colab import drive\n",
        "import os\n",
        "\n",
        "drive.mount('/content/gdrive')"
      ],
      "metadata": {
        "colab": {
          "base_uri": "https://localhost:8080/"
        },
        "id": "oWQk-xyECKsf",
        "outputId": "4f60a354-9293-41da-e79e-9e695376cdd9"
      },
      "execution_count": 1,
      "outputs": [
        {
          "output_type": "stream",
          "name": "stdout",
          "text": [
            "Mounted at /content/gdrive\n"
          ]
        }
      ]
    },
    {
      "cell_type": "markdown",
      "source": [
        "Создание и сохранение изображений"
      ],
      "metadata": {
        "id": "KARF0FkiyT19"
      }
    },
    {
      "cell_type": "code",
      "source": [
        "import cv2\n",
        "import numpy as np\n",
        "from skimage.util import random_noise\n",
        "import os\n",
        "\n",
        "# Функция для изменения яркости и насыщенности изображения\n",
        "def adjust_brightness_and_saturation(image, brightness_factor, saturation_factor):\n",
        "    hsv = cv2.cvtColor(image, cv2.COLOR_BGR2HSV)\n",
        "    hsv[:, :, 2] = np.clip(hsv[:, :, 2] * brightness_factor, 0, 255)\n",
        "    hsv[:, :, 1] = np.clip(hsv[:, :, 1] * saturation_factor, 0, 255)\n",
        "    new_image = cv2.cvtColor(hsv, cv2.COLOR_HSV2BGR)\n",
        "    return new_image\n",
        "\n",
        "input_folder = \"./gdrive/MyDrive/yolov7_run/images\"\n",
        "train_output_folder = \"./gdrive/MyDrive/yolov7_run/yolov7/data/train/images\"\n",
        "test_output_folder = \"./gdrive/MyDrive/yolov7_run/yolov7/data/val/images\"\n",
        "\n",
        "test_idx = np.random.randint(0, 930, size=100)\n",
        "test_names = []\n",
        "\n",
        "# Проходим по всем изображениям в папке\n",
        "i = 1\n",
        "for filename in os.listdir(input_folder):\n",
        "    if filename.endswith(\".png\"):\n",
        "\n",
        "        image = cv2.imread(os.path.join(input_folder, filename))\n",
        "\n",
        "        #оригинальное изображение\n",
        "        output_folder = train_output_folder\n",
        "        if i in test_idx:\n",
        "            output_folder = test_output_folder\n",
        "            test_names.append(filename)\n",
        "        cv2.imwrite(os.path.join(output_folder, f\"{os.path.splitext(filename)[0]}.png\"), image)\n",
        "\n",
        "        # повышенная яркость\n",
        "        i += 1\n",
        "        brightened_image = adjust_brightness_and_saturation(image, brightness_factor=1.5, saturation_factor=1.2)\n",
        "        output_folder = train_output_folder\n",
        "        if i in test_idx:\n",
        "            output_folder = test_output_folder\n",
        "            test_names.append(filename)\n",
        "        cv2.imwrite(os.path.join(output_folder, f\"{os.path.splitext(filename)[0]}_br.png\"), brightened_image)\n",
        "\n",
        "        # пониженная яркость\n",
        "        i += 1\n",
        "        brightened_image_1 = adjust_brightness_and_saturation(image, brightness_factor=0.7, saturation_factor=1.2)\n",
        "        output_folder = train_output_folder\n",
        "        if i in test_idx:\n",
        "            output_folder = test_output_folder\n",
        "            test_names.append(filename)\n",
        "        cv2.imwrite(os.path.join(output_folder, f\"{os.path.splitext(filename)[0]}_br1.png\"), brightened_image_1)\n",
        "\n",
        "        # повышенная насыщенность\n",
        "        i += 1\n",
        "        saturated_image = adjust_brightness_and_saturation(image, brightness_factor=1.0, saturation_factor=2.0)\n",
        "        output_folder = train_output_folder\n",
        "        if i in test_idx:\n",
        "            output_folder = test_output_folder\n",
        "            test_names.append(filename)\n",
        "        cv2.imwrite(os.path.join(output_folder, f\"{os.path.splitext(filename)[0]}_sat.png\"), saturated_image)\n",
        "\n",
        "        # защумленность\n",
        "        i += 1\n",
        "        noisy_image = random_noise(image, mode='s&p', amount=0.2)\n",
        "        noisy_image = (255 * noisy_image).astype(np.uint8)\n",
        "        output_folder = train_output_folder\n",
        "        if i in test_idx:\n",
        "            output_folder = test_output_folder\n",
        "            test_names.append(filename)\n",
        "        cv2.imwrite(os.path.join(output_folder, f\"{os.path.splitext(filename)[0]}_noisy.png\"), noisy_image)\n",
        "\n",
        "        i += 1"
      ],
      "metadata": {
        "id": "Abom7CuqMLiM"
      },
      "execution_count": null,
      "outputs": []
    },
    {
      "cell_type": "markdown",
      "source": [
        "Создание и сохранение разметки"
      ],
      "metadata": {
        "id": "BjJNH4iTyXc1"
      }
    },
    {
      "cell_type": "code",
      "source": [
        "test_names_cp = os.listdir('./gdrive/MyDrive/yolov7_run/yolov7/data/val/images')\n",
        "test_names_cp = [i.split('.')[0] for i in test_names_cp]\n",
        "\n",
        "def write_txt(frm, to):\n",
        "    with open(frm, 'r') as source_file:\n",
        "        file_content = source_file.read()\n",
        "    with open(to, 'w+') as new_file:\n",
        "        new_file.write(file_content)\n",
        "\n",
        "label_input_folder = \"./gdrive/MyDrive/yolov7_run/labels\"\n",
        "label_output_train = './gdrive/MyDrive/yolov7_run/yolov7/data/train/labels'\n",
        "label_output_test = './gdrive/MyDrive/yolov7_run/yolov7/data/val/labels'\n",
        "\n",
        "for filename in os.listdir(label_input_folder):\n",
        "    #оригинальное изображение\n",
        "    output_dir =  label_output_train\n",
        "    if filename.split('.')[0] in test_names_cp:\n",
        "        output_dir = label_output_test\n",
        "    # print(filename, output_dir)\n",
        "    write_txt(label_input_folder + '/' + filename, output_dir + '/' + filename)\n",
        "\n",
        "    #повышенная яркость\n",
        "    output_dir =  label_output_train\n",
        "    new_filename1 = filename.split('.')[0] + '_br.txt'\n",
        "    if new_filename1.split('.')[0] in test_names_cp:\n",
        "        output_dir = label_output_test\n",
        "    # print(new_filename1, output_dir)\n",
        "    write_txt(label_input_folder + '/' + filename, output_dir + '/' + new_filename1)\n",
        "\n",
        "    #пониженная яркость\n",
        "    output_dir =  label_output_train\n",
        "    new_filename2 = filename.split('.')[0] + '_br1.txt'\n",
        "    if new_filename2.split('.')[0] in test_names_cp:\n",
        "        output_dir = label_output_test\n",
        "    # print(new_filename2, output_dir)\n",
        "    write_txt(label_input_folder + '/' + filename, output_dir + '/' + new_filename2)\n",
        "\n",
        "    #повышенная насыщенность\n",
        "    output_dir =  label_output_train\n",
        "    new_filename3 = filename.split('.')[0] + '_sat.txt'\n",
        "    if new_filename3.split('.')[0] in test_names_cp:\n",
        "        output_dir = label_output_test\n",
        "    # print(new_filename3, output_dir)\n",
        "    write_txt(label_input_folder + '/' + filename, output_dir + '/' + new_filename3)\n",
        "\n",
        "    #зашумленность\n",
        "    output_dir =  label_output_train\n",
        "    new_filename4 = filename.split('.')[0] + '_noisy.txt'\n",
        "    if new_filename4.split('.')[0] in test_names_cp:\n",
        "        output_dir = label_output_test\n",
        "    # print(new_filename4, output_dir)\n",
        "    write_txt(label_input_folder + '/' + filename, output_dir + '/' + new_filename4)\n"
      ],
      "metadata": {
        "id": "K26pQS4dWBFT"
      },
      "execution_count": 9,
      "outputs": []
    },
    {
      "cell_type": "code",
      "source": [
        "assert len(os.listdir(\"./gdrive/MyDrive/yolov7_run/yolov7/data/train/images\")) == len(os.listdir(\"./gdrive/MyDrive/yolov7_run/yolov7/data/train/labels\"))\n",
        "assert len(os.listdir(\"./gdrive/MyDrive/yolov7_run/yolov7/data/val/images\")) == len(os.listdir(\"./gdrive/MyDrive/yolov7_run/yolov7/data/val/labels\"))"
      ],
      "metadata": {
        "id": "JIqrhazGmxPJ"
      },
      "execution_count": 10,
      "outputs": []
    }
  ]
}